{
 "cells": [
  {
   "cell_type": "markdown",
   "id": "0c789585-8b3e-4857-b2c4-a4ef5dba21a9",
   "metadata": {},
   "source": [
    "BMI Calculator"
   ]
  },
  {
   "cell_type": "code",
   "execution_count": null,
   "id": "e0fb29c1-248f-473e-a93b-1bfd7f35b94d",
   "metadata": {
    "scrolled": true
   },
   "outputs": [],
   "source": [
    "name = input('Enter your name:')\n",
    "\n",
    "weight = int(input('Enter your weight in kilograms:'))\n",
    "\n",
    "height = float(input('Enter your height in meters:'))\n",
    "\n",
    "BMI = round((weight) / (height * height),1)\n",
    "\n",
    "print('BMI =',BMI)\n",
    "if BMI >0:    \n",
    "    if BMI < 13:\n",
    "        print(name + ', you have potential organ failure.')\n",
    "    elif BMI < 18.5:\n",
    "        print(name + ', you are underweight.')\n",
    "    elif 18.5 <= BMI <= 24.9:\n",
    "        print(name + ', you are healthy.')\n",
    "    elif 24.9 < BMI <= 29.9:\n",
    "        print(name + ', you are overweight.')\n",
    "    elif 29.9 < BMI <= 34.9:\n",
    "        print(name + ', you have obesity of class 1.')\n",
    "    elif 34.9 < BMI <= 39.9:\n",
    "        print(name + ', you have obesity of class 2.')\n",
    "    elif BMI >= 40:\n",
    "        print(name + ', you have obesity of class 3.')\n",
    "else:\n",
    "    print('Enter valid inputs')"
   ]
  }
 ],
 "metadata": {
  "kernelspec": {
   "display_name": "Python 3 (ipykernel)",
   "language": "python",
   "name": "python3"
  },
  "language_info": {
   "codemirror_mode": {
    "name": "ipython",
    "version": 3
   },
   "file_extension": ".py",
   "mimetype": "text/x-python",
   "name": "python",
   "nbconvert_exporter": "python",
   "pygments_lexer": "ipython3",
   "version": "3.12.7"
  }
 },
 "nbformat": 4,
 "nbformat_minor": 5
}
